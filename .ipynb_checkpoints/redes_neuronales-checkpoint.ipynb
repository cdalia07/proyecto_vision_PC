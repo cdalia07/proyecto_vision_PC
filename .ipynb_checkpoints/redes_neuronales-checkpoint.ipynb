{
 "cells": [
  {
   "cell_type": "markdown",
   "id": "fdcc6221-7d9b-4bc7-a179-fdd505dd9386",
   "metadata": {},
   "source": [
    "## Librerias"
   ]
  },
  {
   "cell_type": "code",
   "execution_count": 4,
   "id": "5ddc2339-f993-4e55-96ca-e6dcf3b19268",
   "metadata": {},
   "outputs": [],
   "source": [
    "#pip install tensorflow"
   ]
  },
  {
   "cell_type": "code",
   "execution_count": 7,
   "id": "53bfef77-6b06-4fdb-96a4-e7873b26c439",
   "metadata": {},
   "outputs": [],
   "source": [
    "#pip install keras"
   ]
  },
  {
   "cell_type": "code",
   "execution_count": 43,
   "id": "5648f7d4-6b4c-4652-afab-9898d0488549",
   "metadata": {},
   "outputs": [],
   "source": [
    "import os\n",
    "import glob\n",
    "import cv2\n",
    "import numpy as np\n",
    "import random\n",
    "import matplotlib.pyplot as plt\n",
    "import tensorflow as tf\n",
    "import math\n",
    "from PIL import Image\n",
    "from math import log10, sqrt\n",
    "\n",
    "from keras.models import Sequential\n",
    "from keras.layers import Convolution2D\n",
    "from keras.layers import MaxPooling2D\n",
    "from keras.layers import Flatten\n",
    "from keras.layers import Dense\n",
    "from keras.layers import Input\n",
    "from keras.layers import Dropout\n",
    "\n",
    "from tensorflow.keras.callbacks import TensorBoard, ModelCheckpoint\n",
    "from tensorflow import keras\n",
    "from tensorflow.keras.regularizers import l2\n",
    "from tensorflow.keras.layers import BatchNormalization\n",
    "from tensorflow.keras.optimizers import Adam"
   ]
  },
  {
   "cell_type": "markdown",
   "id": "00043ced-cedd-4c88-9c94-b189e23f470d",
   "metadata": {},
   "source": [
    "## Lectura de imagenes"
   ]
  },
  {
   "cell_type": "code",
   "execution_count": 19,
   "id": "e1e04daa-8b75-4fa9-b391-079e302158b5",
   "metadata": {},
   "outputs": [],
   "source": [
    "def leer_imagenes_automatico(img_path):\n",
    "    # Obtener lista de archivos en la carpeta\n",
    "    files_names = os.listdir(img_path)\n",
    "    \n",
    "    # Asegurar que sea un archivo de imagen\n",
    "    image_extensions = ['.tiff', '.png', '.jpg', '.jpeg']\n",
    "    image_files = [file for file in files_names if os.path.splitext(file)[1].lower() in image_extensions]\n",
    "    \n",
    "    # Crear un diccionario donde las claves son 'ruta_imagen_1', 'ruta_imagen_2', etc.\n",
    "    rutas_imagenes = {}\n",
    "    for i, file in enumerate(image_files):\n",
    "        ruta_imagen = os.path.join(img_path, file)\n",
    "        rutas_imagenes[f\"ruta_imagen_{i+1}\"] = ruta_imagen\n",
    "    \n",
    "    return rutas_imagenes\n",
    "\n",
    "def procesar_imagenes(rutas_imagenes):\n",
    "    imagenes_procesadas = {}\n",
    "    \n",
    "    for nombre_variable, ruta in rutas_imagenes.items():\n",
    "        input_image1 = cv2.imread(ruta, cv2.IMREAD_COLOR)  # Leer la imagen\n",
    "        input_image = cv2.cvtColor(input_image1, cv2.COLOR_BGR2RGB)  # Convertir a RGB\n",
    "        input_image = cv2.resize(input_image, (320, 320))\n",
    "        imagenes_procesadas[nombre_variable] = input_image\n",
    "    \n",
    "    return imagenes_procesadas"
   ]
  },
  {
   "cell_type": "code",
   "execution_count": 20,
   "id": "3a1955cb-7556-4389-aae1-4675a0c9f20b",
   "metadata": {},
   "outputs": [],
   "source": [
    "img_path_no_violence = r\"C:\\Users\\Contratista\\Documents\\GitHub\\proyecto_vision_PC\\violence_dataset\\non_violence\"\n",
    "img_path_violence = r\"C:\\Users\\Contratista\\Documents\\GitHub\\proyecto_vision_PC\\violence_dataset\\violence\"\n",
    "rutas_imagenes_no_violence = leer_imagenes_automatico(img_path_no_violence)\n",
    "rutas_imagenes_violence = leer_imagenes_automatico(img_path_violence)\n",
    "\n",
    "imagenes_no_violence = procesar_imagenes(rutas_imagenes_no_violence)\n",
    "imagenes_violence = procesar_imagenes(rutas_imagenes_violence)"
   ]
  },
  {
   "cell_type": "markdown",
   "id": "1c03d97f-2c65-4ad7-857b-9a9dd4df37c8",
   "metadata": {},
   "source": [
    "## Training y Testing"
   ]
  },
  {
   "cell_type": "code",
   "execution_count": 21,
   "id": "3b5f0bdf-9f6f-4ba3-89a0-a22b6ddf3218",
   "metadata": {},
   "outputs": [],
   "source": [
    "# Función training - testing\n",
    "def split_data(data, train_size=0.8):\n",
    "    split_point = int(train_size * len(data))\n",
    "    return data[:split_point], data[split_point:]\n"
   ]
  },
  {
   "cell_type": "code",
   "execution_count": 22,
   "id": "8c713b69-c921-43cb-a8d3-be84f4d76eb9",
   "metadata": {},
   "outputs": [],
   "source": [
    "# Daata aleatorizada\n",
    "data_no_violence = [(0, img) for img in imagenes_no_violence]  # Etiqueta 0 para no violencia\n",
    "data_violence = [(1, img) for img in imagenes_violence]  # Etiqueta 1 para violencia\n",
    "random.Random(0).shuffle(data_no_violence)\n",
    "random.Random(0).shuffle(data_violence)\n",
    "\n",
    "# Dividir no violencia y violencia en entrenamiento y prueba\n",
    "train_no_violence, test_no_violence = split_data(data_no_violence)\n",
    "train_violence, test_violence = split_data(data_violence)\n",
    "\n",
    "# Training y tetsing completo aleatorizado\n",
    "train_data = train_no_violence + train_violence\n",
    "test_data = test_no_violence + test_violence\n",
    "random.Random(0).shuffle(train_data)\n",
    "random.Random(0).shuffle(test_data)"
   ]
  },
  {
   "cell_type": "code",
   "execution_count": 27,
   "id": "c5ed6c8c-8aef-41bb-87cb-ac621b0adf36",
   "metadata": {},
   "outputs": [
    {
     "name": "stdout",
     "output_type": "stream",
     "text": [
      "5231\n",
      "4184\n",
      "1047\n",
      "5231\n",
      "4665\n",
      "1047\n"
     ]
    }
   ],
   "source": [
    "#Verificar tamaño training - testing\n",
    "print(len(imagenes_no_violence))\n",
    "print(len(train_no_violence))\n",
    "print(len(test_no_violence))\n",
    "\n",
    "print(len(imagenes_no_violence))\n",
    "print(len(train_violence))\n",
    "print(len(test_no_violence))"
   ]
  },
  {
   "cell_type": "code",
   "execution_count": 32,
   "id": "e21d3b38-b061-40b0-94f9-260f3d281fd4",
   "metadata": {},
   "outputs": [],
   "source": [
    "# Arreglos \n",
    "x_train, y_train = [], []\n",
    "x_test, y_test = [], []\n",
    "\n",
    "for i, sample in enumerate(train_data):\n",
    "    label = sample[0]\n",
    "    img = sample[1]\n",
    "    x_train.append(img)\n",
    "    y_train.append(label)\n",
    "\n",
    "for i, sample in enumerate(test_data):\n",
    "    label = sample[0]\n",
    "    img = sample[1]\n",
    "    x_test.append(img)\n",
    "    y_test.append(label)\n",
    "\n",
    "# Convertir a arreglos de NumPy para TensorFlow\n",
    "x_train = np.array(x_train)\n",
    "x_test = np.array(x_test)\n",
    "\n",
    "y_train = np.array(y_train)\n",
    "y_test = np.array(y_test)\n"
   ]
  },
  {
   "cell_type": "markdown",
   "id": "97076211-b9fd-45b5-a4ad-f16268603e76",
   "metadata": {},
   "source": [
    "## One hot encoding"
   ]
  },
  {
   "cell_type": "code",
   "execution_count": 39,
   "id": "1619e6b2-a5e2-429e-a28f-e4649979ed1d",
   "metadata": {},
   "outputs": [],
   "source": [
    "possible_labels = [0,1]\n",
    "y_trainOneHot = tf.one_hot(y_train, len(possible_labels))\n",
    "y_testOneHot = tf.one_hot(y_test, len(possible_labels))"
   ]
  },
  {
   "cell_type": "markdown",
   "id": "7defb7e0-c5b3-4100-8ce7-7066aef9cf65",
   "metadata": {},
   "source": [
    "## Red neuronal convolucional"
   ]
  },
  {
   "cell_type": "markdown",
   "id": "4facfc8e-b53c-4ec9-87fc-3932ce0c9584",
   "metadata": {},
   "source": [
    "Se construye y retorna una Red Neuronal Convolucional (CNN) con el siguiente flujo:\n",
    "\n",
    "Capas convolucionales: Se utilizan varias capas convolucionales, cada una de ellas seguida por:\n",
    "- Activación ReLU: Función de activación que introduce no linealidades en el modelo.\n",
    "- Normalización por lotes (Batch Normalization): Ayuda a estabilizar y acelerar el entrenamiento normalizando la activación de cada capa.\n",
    "- Max-Pooling: Reduce las dimensiones de las características, manteniendo las más relevantes y reduciendo el tamaño del modelo.\n",
    "- Capas densas: Después de extraer las características mediante las capas convolucionales, se añaden capas densas (fully connected) para realizar la clasificación final.\n",
    "\n",
    "Regularización L2: Se aplica para reducir el riesgo de sobreajuste, penalizando los pesos excesivamente grandes.\n",
    "\n",
    "- Compilación del modelo: Se usa el optimizador Adam (Adaptive Moment Estimation), que ajusta los pesos del modelo de manera eficiente durante el entrenamiento. La función de pérdida utilizada es la entropía cruzada categórica, adecuada para problemas de clasificación multiclase.\n",
    "\n",
    "\n",
    "Tomado de https://www.kaggle.com/code/kevinprieto20/deteccion-violencia/notebook#Insertando-los-datos-(training,-validacion-y-testing)-en-arrays-de-numpy\n"
   ]
  },
  {
   "cell_type": "code",
   "execution_count": 36,
   "id": "42815096-9696-4c2d-a61a-3573feef69ac",
   "metadata": {},
   "outputs": [],
   "source": [
    "def cnn_model():\n",
    "    model = Sequential()  # Modelo secuencial\n",
    "    model.add(Input(shape=(320, 320, 3)))  # Capa de entrada para imágenes de 320x320 con 3 canales (RGB)\n",
    "    \n",
    "    # Primera capa convolucional\n",
    "    model.add(Convolution2D(32, (3, 3), activation=\"relu\", kernel_regularizer=l2(0.001)))  # 32 filtros 3x3, ReLU, regularización L2\n",
    "    model.add(BatchNormalization())  # Normalización por lotes\n",
    "    model.add(MaxPooling2D(pool_size=(2, 2)))  # Max-pooling para reducir dimensiones\n",
    "    \n",
    "    # Segunda capa convolucional\n",
    "    model.add(Convolution2D(64, (3, 3), activation=\"relu\", kernel_regularizer=l2(0.001)))  # 64 filtros 3x3, ReLU, regularización L2\n",
    "    model.add(BatchNormalization())  # Normalización por lotes\n",
    "    model.add(MaxPooling2D(pool_size=(2, 2)))  # Max-pooling para reducir dimensiones\n",
    "    \n",
    "    # Tercera capa convolucional\n",
    "    model.add(Convolution2D(128, (3, 3), activation=\"relu\", kernel_regularizer=l2(0.001)))  # 128 filtros 3x3, ReLU, regularización L2\n",
    "    model.add(BatchNormalization())  # Normalización por lotes\n",
    "    model.add(MaxPooling2D(pool_size=(2, 2)))  # Max-pooling para reducir dimensiones\n",
    "    \n",
    "    # Cuarta capa convolucional\n",
    "    model.add(Convolution2D(256, (3, 3), activation=\"relu\", kernel_regularizer=l2(0.001)))  # 256 filtros 3x3, ReLU, regularización L2\n",
    "    model.add(BatchNormalization())  # Normalización por lotes\n",
    "    model.add(MaxPooling2D(pool_size=(2, 2)))  # Max-pooling para reducir dimensiones\n",
    "    \n",
    "    model.add(Flatten())  # Aplana el tensor en una sola dimensión\n",
    "    \n",
    "    # Primera capa densa (fully connected)\n",
    "    model.add(Dense(512, activation=\"relu\", kernel_regularizer=l2(0.001)))  # Capa densa con 512 neuronas, ReLU, regularización L2\n",
    "    model.add(BatchNormalization())  # Normalización por lotes\n",
    "    \n",
    "    # Segunda capa densa\n",
    "    model.add(Dense(256, activation=\"relu\", kernel_regularizer=l2(0.001)))  # Capa densa con 256 neuronas, ReLU, regularización L2\n",
    "    model.add(BatchNormalization())  # Normalización por lotes\n",
    "    \n",
    "    # Capa de salida\n",
    "    model.add(Dense(len(possible_labels), activation=\"softmax\"))  # Capa de salida con softmax para clasificación multiclase\n",
    "    \n",
    "    # Compilación del modelo\n",
    "    model.compile(optimizer=\"adam\", loss=\"categorical_crossentropy\", metrics=[\"accuracy\"])  # Optimizador Adam, pérdida de entropía cruzada categórica\n",
    "    return model  \n"
   ]
  },
  {
   "cell_type": "code",
   "execution_count": 42,
   "id": "743cf598-c967-4504-9a76-76585ba01b61",
   "metadata": {},
   "outputs": [
    {
     "data": {
      "text/html": [
       "<pre style=\"white-space:pre;overflow-x:auto;line-height:normal;font-family:Menlo,'DejaVu Sans Mono',consolas,'Courier New',monospace\"><span style=\"font-weight: bold\">Model: \"sequential\"</span>\n",
       "</pre>\n"
      ],
      "text/plain": [
       "\u001b[1mModel: \"sequential\"\u001b[0m\n"
      ]
     },
     "metadata": {},
     "output_type": "display_data"
    },
    {
     "data": {
      "text/html": [
       "<pre style=\"white-space:pre;overflow-x:auto;line-height:normal;font-family:Menlo,'DejaVu Sans Mono',consolas,'Courier New',monospace\">┏━━━━━━━━━━━━━━━━━━━━━━━━━━━━━━━━━━━━━━┳━━━━━━━━━━━━━━━━━━━━━━━━━━━━━┳━━━━━━━━━━━━━━━━━┓\n",
       "┃<span style=\"font-weight: bold\"> Layer (type)                         </span>┃<span style=\"font-weight: bold\"> Output Shape                </span>┃<span style=\"font-weight: bold\">         Param # </span>┃\n",
       "┡━━━━━━━━━━━━━━━━━━━━━━━━━━━━━━━━━━━━━━╇━━━━━━━━━━━━━━━━━━━━━━━━━━━━━╇━━━━━━━━━━━━━━━━━┩\n",
       "│ conv2d (<span style=\"color: #0087ff; text-decoration-color: #0087ff\">Conv2D</span>)                      │ (<span style=\"color: #00d7ff; text-decoration-color: #00d7ff\">None</span>, <span style=\"color: #00af00; text-decoration-color: #00af00\">318</span>, <span style=\"color: #00af00; text-decoration-color: #00af00\">318</span>, <span style=\"color: #00af00; text-decoration-color: #00af00\">32</span>)        │             <span style=\"color: #00af00; text-decoration-color: #00af00\">896</span> │\n",
       "├──────────────────────────────────────┼─────────────────────────────┼─────────────────┤\n",
       "│ batch_normalization                  │ (<span style=\"color: #00d7ff; text-decoration-color: #00d7ff\">None</span>, <span style=\"color: #00af00; text-decoration-color: #00af00\">318</span>, <span style=\"color: #00af00; text-decoration-color: #00af00\">318</span>, <span style=\"color: #00af00; text-decoration-color: #00af00\">32</span>)        │             <span style=\"color: #00af00; text-decoration-color: #00af00\">128</span> │\n",
       "│ (<span style=\"color: #0087ff; text-decoration-color: #0087ff\">BatchNormalization</span>)                 │                             │                 │\n",
       "├──────────────────────────────────────┼─────────────────────────────┼─────────────────┤\n",
       "│ max_pooling2d (<span style=\"color: #0087ff; text-decoration-color: #0087ff\">MaxPooling2D</span>)         │ (<span style=\"color: #00d7ff; text-decoration-color: #00d7ff\">None</span>, <span style=\"color: #00af00; text-decoration-color: #00af00\">159</span>, <span style=\"color: #00af00; text-decoration-color: #00af00\">159</span>, <span style=\"color: #00af00; text-decoration-color: #00af00\">32</span>)        │               <span style=\"color: #00af00; text-decoration-color: #00af00\">0</span> │\n",
       "├──────────────────────────────────────┼─────────────────────────────┼─────────────────┤\n",
       "│ conv2d_1 (<span style=\"color: #0087ff; text-decoration-color: #0087ff\">Conv2D</span>)                    │ (<span style=\"color: #00d7ff; text-decoration-color: #00d7ff\">None</span>, <span style=\"color: #00af00; text-decoration-color: #00af00\">157</span>, <span style=\"color: #00af00; text-decoration-color: #00af00\">157</span>, <span style=\"color: #00af00; text-decoration-color: #00af00\">64</span>)        │          <span style=\"color: #00af00; text-decoration-color: #00af00\">18,496</span> │\n",
       "├──────────────────────────────────────┼─────────────────────────────┼─────────────────┤\n",
       "│ batch_normalization_1                │ (<span style=\"color: #00d7ff; text-decoration-color: #00d7ff\">None</span>, <span style=\"color: #00af00; text-decoration-color: #00af00\">157</span>, <span style=\"color: #00af00; text-decoration-color: #00af00\">157</span>, <span style=\"color: #00af00; text-decoration-color: #00af00\">64</span>)        │             <span style=\"color: #00af00; text-decoration-color: #00af00\">256</span> │\n",
       "│ (<span style=\"color: #0087ff; text-decoration-color: #0087ff\">BatchNormalization</span>)                 │                             │                 │\n",
       "├──────────────────────────────────────┼─────────────────────────────┼─────────────────┤\n",
       "│ max_pooling2d_1 (<span style=\"color: #0087ff; text-decoration-color: #0087ff\">MaxPooling2D</span>)       │ (<span style=\"color: #00d7ff; text-decoration-color: #00d7ff\">None</span>, <span style=\"color: #00af00; text-decoration-color: #00af00\">78</span>, <span style=\"color: #00af00; text-decoration-color: #00af00\">78</span>, <span style=\"color: #00af00; text-decoration-color: #00af00\">64</span>)          │               <span style=\"color: #00af00; text-decoration-color: #00af00\">0</span> │\n",
       "├──────────────────────────────────────┼─────────────────────────────┼─────────────────┤\n",
       "│ conv2d_2 (<span style=\"color: #0087ff; text-decoration-color: #0087ff\">Conv2D</span>)                    │ (<span style=\"color: #00d7ff; text-decoration-color: #00d7ff\">None</span>, <span style=\"color: #00af00; text-decoration-color: #00af00\">76</span>, <span style=\"color: #00af00; text-decoration-color: #00af00\">76</span>, <span style=\"color: #00af00; text-decoration-color: #00af00\">128</span>)         │          <span style=\"color: #00af00; text-decoration-color: #00af00\">73,856</span> │\n",
       "├──────────────────────────────────────┼─────────────────────────────┼─────────────────┤\n",
       "│ batch_normalization_2                │ (<span style=\"color: #00d7ff; text-decoration-color: #00d7ff\">None</span>, <span style=\"color: #00af00; text-decoration-color: #00af00\">76</span>, <span style=\"color: #00af00; text-decoration-color: #00af00\">76</span>, <span style=\"color: #00af00; text-decoration-color: #00af00\">128</span>)         │             <span style=\"color: #00af00; text-decoration-color: #00af00\">512</span> │\n",
       "│ (<span style=\"color: #0087ff; text-decoration-color: #0087ff\">BatchNormalization</span>)                 │                             │                 │\n",
       "├──────────────────────────────────────┼─────────────────────────────┼─────────────────┤\n",
       "│ max_pooling2d_2 (<span style=\"color: #0087ff; text-decoration-color: #0087ff\">MaxPooling2D</span>)       │ (<span style=\"color: #00d7ff; text-decoration-color: #00d7ff\">None</span>, <span style=\"color: #00af00; text-decoration-color: #00af00\">38</span>, <span style=\"color: #00af00; text-decoration-color: #00af00\">38</span>, <span style=\"color: #00af00; text-decoration-color: #00af00\">128</span>)         │               <span style=\"color: #00af00; text-decoration-color: #00af00\">0</span> │\n",
       "├──────────────────────────────────────┼─────────────────────────────┼─────────────────┤\n",
       "│ conv2d_3 (<span style=\"color: #0087ff; text-decoration-color: #0087ff\">Conv2D</span>)                    │ (<span style=\"color: #00d7ff; text-decoration-color: #00d7ff\">None</span>, <span style=\"color: #00af00; text-decoration-color: #00af00\">36</span>, <span style=\"color: #00af00; text-decoration-color: #00af00\">36</span>, <span style=\"color: #00af00; text-decoration-color: #00af00\">256</span>)         │         <span style=\"color: #00af00; text-decoration-color: #00af00\">295,168</span> │\n",
       "├──────────────────────────────────────┼─────────────────────────────┼─────────────────┤\n",
       "│ batch_normalization_3                │ (<span style=\"color: #00d7ff; text-decoration-color: #00d7ff\">None</span>, <span style=\"color: #00af00; text-decoration-color: #00af00\">36</span>, <span style=\"color: #00af00; text-decoration-color: #00af00\">36</span>, <span style=\"color: #00af00; text-decoration-color: #00af00\">256</span>)         │           <span style=\"color: #00af00; text-decoration-color: #00af00\">1,024</span> │\n",
       "│ (<span style=\"color: #0087ff; text-decoration-color: #0087ff\">BatchNormalization</span>)                 │                             │                 │\n",
       "├──────────────────────────────────────┼─────────────────────────────┼─────────────────┤\n",
       "│ max_pooling2d_3 (<span style=\"color: #0087ff; text-decoration-color: #0087ff\">MaxPooling2D</span>)       │ (<span style=\"color: #00d7ff; text-decoration-color: #00d7ff\">None</span>, <span style=\"color: #00af00; text-decoration-color: #00af00\">18</span>, <span style=\"color: #00af00; text-decoration-color: #00af00\">18</span>, <span style=\"color: #00af00; text-decoration-color: #00af00\">256</span>)         │               <span style=\"color: #00af00; text-decoration-color: #00af00\">0</span> │\n",
       "├──────────────────────────────────────┼─────────────────────────────┼─────────────────┤\n",
       "│ flatten (<span style=\"color: #0087ff; text-decoration-color: #0087ff\">Flatten</span>)                    │ (<span style=\"color: #00d7ff; text-decoration-color: #00d7ff\">None</span>, <span style=\"color: #00af00; text-decoration-color: #00af00\">82944</span>)               │               <span style=\"color: #00af00; text-decoration-color: #00af00\">0</span> │\n",
       "├──────────────────────────────────────┼─────────────────────────────┼─────────────────┤\n",
       "│ dense (<span style=\"color: #0087ff; text-decoration-color: #0087ff\">Dense</span>)                        │ (<span style=\"color: #00d7ff; text-decoration-color: #00d7ff\">None</span>, <span style=\"color: #00af00; text-decoration-color: #00af00\">512</span>)                 │      <span style=\"color: #00af00; text-decoration-color: #00af00\">42,467,840</span> │\n",
       "├──────────────────────────────────────┼─────────────────────────────┼─────────────────┤\n",
       "│ batch_normalization_4                │ (<span style=\"color: #00d7ff; text-decoration-color: #00d7ff\">None</span>, <span style=\"color: #00af00; text-decoration-color: #00af00\">512</span>)                 │           <span style=\"color: #00af00; text-decoration-color: #00af00\">2,048</span> │\n",
       "│ (<span style=\"color: #0087ff; text-decoration-color: #0087ff\">BatchNormalization</span>)                 │                             │                 │\n",
       "├──────────────────────────────────────┼─────────────────────────────┼─────────────────┤\n",
       "│ dense_1 (<span style=\"color: #0087ff; text-decoration-color: #0087ff\">Dense</span>)                      │ (<span style=\"color: #00d7ff; text-decoration-color: #00d7ff\">None</span>, <span style=\"color: #00af00; text-decoration-color: #00af00\">256</span>)                 │         <span style=\"color: #00af00; text-decoration-color: #00af00\">131,328</span> │\n",
       "├──────────────────────────────────────┼─────────────────────────────┼─────────────────┤\n",
       "│ batch_normalization_5                │ (<span style=\"color: #00d7ff; text-decoration-color: #00d7ff\">None</span>, <span style=\"color: #00af00; text-decoration-color: #00af00\">256</span>)                 │           <span style=\"color: #00af00; text-decoration-color: #00af00\">1,024</span> │\n",
       "│ (<span style=\"color: #0087ff; text-decoration-color: #0087ff\">BatchNormalization</span>)                 │                             │                 │\n",
       "├──────────────────────────────────────┼─────────────────────────────┼─────────────────┤\n",
       "│ dense_2 (<span style=\"color: #0087ff; text-decoration-color: #0087ff\">Dense</span>)                      │ (<span style=\"color: #00d7ff; text-decoration-color: #00d7ff\">None</span>, <span style=\"color: #00af00; text-decoration-color: #00af00\">2</span>)                   │             <span style=\"color: #00af00; text-decoration-color: #00af00\">514</span> │\n",
       "└──────────────────────────────────────┴─────────────────────────────┴─────────────────┘\n",
       "</pre>\n"
      ],
      "text/plain": [
       "┏━━━━━━━━━━━━━━━━━━━━━━━━━━━━━━━━━━━━━━┳━━━━━━━━━━━━━━━━━━━━━━━━━━━━━┳━━━━━━━━━━━━━━━━━┓\n",
       "┃\u001b[1m \u001b[0m\u001b[1mLayer (type)                        \u001b[0m\u001b[1m \u001b[0m┃\u001b[1m \u001b[0m\u001b[1mOutput Shape               \u001b[0m\u001b[1m \u001b[0m┃\u001b[1m \u001b[0m\u001b[1m        Param #\u001b[0m\u001b[1m \u001b[0m┃\n",
       "┡━━━━━━━━━━━━━━━━━━━━━━━━━━━━━━━━━━━━━━╇━━━━━━━━━━━━━━━━━━━━━━━━━━━━━╇━━━━━━━━━━━━━━━━━┩\n",
       "│ conv2d (\u001b[38;5;33mConv2D\u001b[0m)                      │ (\u001b[38;5;45mNone\u001b[0m, \u001b[38;5;34m318\u001b[0m, \u001b[38;5;34m318\u001b[0m, \u001b[38;5;34m32\u001b[0m)        │             \u001b[38;5;34m896\u001b[0m │\n",
       "├──────────────────────────────────────┼─────────────────────────────┼─────────────────┤\n",
       "│ batch_normalization                  │ (\u001b[38;5;45mNone\u001b[0m, \u001b[38;5;34m318\u001b[0m, \u001b[38;5;34m318\u001b[0m, \u001b[38;5;34m32\u001b[0m)        │             \u001b[38;5;34m128\u001b[0m │\n",
       "│ (\u001b[38;5;33mBatchNormalization\u001b[0m)                 │                             │                 │\n",
       "├──────────────────────────────────────┼─────────────────────────────┼─────────────────┤\n",
       "│ max_pooling2d (\u001b[38;5;33mMaxPooling2D\u001b[0m)         │ (\u001b[38;5;45mNone\u001b[0m, \u001b[38;5;34m159\u001b[0m, \u001b[38;5;34m159\u001b[0m, \u001b[38;5;34m32\u001b[0m)        │               \u001b[38;5;34m0\u001b[0m │\n",
       "├──────────────────────────────────────┼─────────────────────────────┼─────────────────┤\n",
       "│ conv2d_1 (\u001b[38;5;33mConv2D\u001b[0m)                    │ (\u001b[38;5;45mNone\u001b[0m, \u001b[38;5;34m157\u001b[0m, \u001b[38;5;34m157\u001b[0m, \u001b[38;5;34m64\u001b[0m)        │          \u001b[38;5;34m18,496\u001b[0m │\n",
       "├──────────────────────────────────────┼─────────────────────────────┼─────────────────┤\n",
       "│ batch_normalization_1                │ (\u001b[38;5;45mNone\u001b[0m, \u001b[38;5;34m157\u001b[0m, \u001b[38;5;34m157\u001b[0m, \u001b[38;5;34m64\u001b[0m)        │             \u001b[38;5;34m256\u001b[0m │\n",
       "│ (\u001b[38;5;33mBatchNormalization\u001b[0m)                 │                             │                 │\n",
       "├──────────────────────────────────────┼─────────────────────────────┼─────────────────┤\n",
       "│ max_pooling2d_1 (\u001b[38;5;33mMaxPooling2D\u001b[0m)       │ (\u001b[38;5;45mNone\u001b[0m, \u001b[38;5;34m78\u001b[0m, \u001b[38;5;34m78\u001b[0m, \u001b[38;5;34m64\u001b[0m)          │               \u001b[38;5;34m0\u001b[0m │\n",
       "├──────────────────────────────────────┼─────────────────────────────┼─────────────────┤\n",
       "│ conv2d_2 (\u001b[38;5;33mConv2D\u001b[0m)                    │ (\u001b[38;5;45mNone\u001b[0m, \u001b[38;5;34m76\u001b[0m, \u001b[38;5;34m76\u001b[0m, \u001b[38;5;34m128\u001b[0m)         │          \u001b[38;5;34m73,856\u001b[0m │\n",
       "├──────────────────────────────────────┼─────────────────────────────┼─────────────────┤\n",
       "│ batch_normalization_2                │ (\u001b[38;5;45mNone\u001b[0m, \u001b[38;5;34m76\u001b[0m, \u001b[38;5;34m76\u001b[0m, \u001b[38;5;34m128\u001b[0m)         │             \u001b[38;5;34m512\u001b[0m │\n",
       "│ (\u001b[38;5;33mBatchNormalization\u001b[0m)                 │                             │                 │\n",
       "├──────────────────────────────────────┼─────────────────────────────┼─────────────────┤\n",
       "│ max_pooling2d_2 (\u001b[38;5;33mMaxPooling2D\u001b[0m)       │ (\u001b[38;5;45mNone\u001b[0m, \u001b[38;5;34m38\u001b[0m, \u001b[38;5;34m38\u001b[0m, \u001b[38;5;34m128\u001b[0m)         │               \u001b[38;5;34m0\u001b[0m │\n",
       "├──────────────────────────────────────┼─────────────────────────────┼─────────────────┤\n",
       "│ conv2d_3 (\u001b[38;5;33mConv2D\u001b[0m)                    │ (\u001b[38;5;45mNone\u001b[0m, \u001b[38;5;34m36\u001b[0m, \u001b[38;5;34m36\u001b[0m, \u001b[38;5;34m256\u001b[0m)         │         \u001b[38;5;34m295,168\u001b[0m │\n",
       "├──────────────────────────────────────┼─────────────────────────────┼─────────────────┤\n",
       "│ batch_normalization_3                │ (\u001b[38;5;45mNone\u001b[0m, \u001b[38;5;34m36\u001b[0m, \u001b[38;5;34m36\u001b[0m, \u001b[38;5;34m256\u001b[0m)         │           \u001b[38;5;34m1,024\u001b[0m │\n",
       "│ (\u001b[38;5;33mBatchNormalization\u001b[0m)                 │                             │                 │\n",
       "├──────────────────────────────────────┼─────────────────────────────┼─────────────────┤\n",
       "│ max_pooling2d_3 (\u001b[38;5;33mMaxPooling2D\u001b[0m)       │ (\u001b[38;5;45mNone\u001b[0m, \u001b[38;5;34m18\u001b[0m, \u001b[38;5;34m18\u001b[0m, \u001b[38;5;34m256\u001b[0m)         │               \u001b[38;5;34m0\u001b[0m │\n",
       "├──────────────────────────────────────┼─────────────────────────────┼─────────────────┤\n",
       "│ flatten (\u001b[38;5;33mFlatten\u001b[0m)                    │ (\u001b[38;5;45mNone\u001b[0m, \u001b[38;5;34m82944\u001b[0m)               │               \u001b[38;5;34m0\u001b[0m │\n",
       "├──────────────────────────────────────┼─────────────────────────────┼─────────────────┤\n",
       "│ dense (\u001b[38;5;33mDense\u001b[0m)                        │ (\u001b[38;5;45mNone\u001b[0m, \u001b[38;5;34m512\u001b[0m)                 │      \u001b[38;5;34m42,467,840\u001b[0m │\n",
       "├──────────────────────────────────────┼─────────────────────────────┼─────────────────┤\n",
       "│ batch_normalization_4                │ (\u001b[38;5;45mNone\u001b[0m, \u001b[38;5;34m512\u001b[0m)                 │           \u001b[38;5;34m2,048\u001b[0m │\n",
       "│ (\u001b[38;5;33mBatchNormalization\u001b[0m)                 │                             │                 │\n",
       "├──────────────────────────────────────┼─────────────────────────────┼─────────────────┤\n",
       "│ dense_1 (\u001b[38;5;33mDense\u001b[0m)                      │ (\u001b[38;5;45mNone\u001b[0m, \u001b[38;5;34m256\u001b[0m)                 │         \u001b[38;5;34m131,328\u001b[0m │\n",
       "├──────────────────────────────────────┼─────────────────────────────┼─────────────────┤\n",
       "│ batch_normalization_5                │ (\u001b[38;5;45mNone\u001b[0m, \u001b[38;5;34m256\u001b[0m)                 │           \u001b[38;5;34m1,024\u001b[0m │\n",
       "│ (\u001b[38;5;33mBatchNormalization\u001b[0m)                 │                             │                 │\n",
       "├──────────────────────────────────────┼─────────────────────────────┼─────────────────┤\n",
       "│ dense_2 (\u001b[38;5;33mDense\u001b[0m)                      │ (\u001b[38;5;45mNone\u001b[0m, \u001b[38;5;34m2\u001b[0m)                   │             \u001b[38;5;34m514\u001b[0m │\n",
       "└──────────────────────────────────────┴─────────────────────────────┴─────────────────┘\n"
      ]
     },
     "metadata": {},
     "output_type": "display_data"
    },
    {
     "data": {
      "text/html": [
       "<pre style=\"white-space:pre;overflow-x:auto;line-height:normal;font-family:Menlo,'DejaVu Sans Mono',consolas,'Courier New',monospace\"><span style=\"font-weight: bold\"> Total params: </span><span style=\"color: #00af00; text-decoration-color: #00af00\">42,993,090</span> (164.01 MB)\n",
       "</pre>\n"
      ],
      "text/plain": [
       "\u001b[1m Total params: \u001b[0m\u001b[38;5;34m42,993,090\u001b[0m (164.01 MB)\n"
      ]
     },
     "metadata": {},
     "output_type": "display_data"
    },
    {
     "data": {
      "text/html": [
       "<pre style=\"white-space:pre;overflow-x:auto;line-height:normal;font-family:Menlo,'DejaVu Sans Mono',consolas,'Courier New',monospace\"><span style=\"font-weight: bold\"> Trainable params: </span><span style=\"color: #00af00; text-decoration-color: #00af00\">42,990,594</span> (164.00 MB)\n",
       "</pre>\n"
      ],
      "text/plain": [
       "\u001b[1m Trainable params: \u001b[0m\u001b[38;5;34m42,990,594\u001b[0m (164.00 MB)\n"
      ]
     },
     "metadata": {},
     "output_type": "display_data"
    },
    {
     "data": {
      "text/html": [
       "<pre style=\"white-space:pre;overflow-x:auto;line-height:normal;font-family:Menlo,'DejaVu Sans Mono',consolas,'Courier New',monospace\"><span style=\"font-weight: bold\"> Non-trainable params: </span><span style=\"color: #00af00; text-decoration-color: #00af00\">2,496</span> (9.75 KB)\n",
       "</pre>\n"
      ],
      "text/plain": [
       "\u001b[1m Non-trainable params: \u001b[0m\u001b[38;5;34m2,496\u001b[0m (9.75 KB)\n"
      ]
     },
     "metadata": {},
     "output_type": "display_data"
    },
    {
     "name": "stdout",
     "output_type": "stream",
     "text": [
      "None\n"
     ]
    }
   ],
   "source": [
    "model = cnn_model()\n",
    "print(model.summary())"
   ]
  },
  {
   "cell_type": "markdown",
   "id": "eb65467b-cd73-4bcf-b192-2ad93bd65a82",
   "metadata": {},
   "source": [
    "## Guardar el mejor modelo según el Accuracy"
   ]
  },
  {
   "cell_type": "code",
   "execution_count": null,
   "id": "51944698-b86d-438e-9d0c-5031da68a5f6",
   "metadata": {},
   "outputs": [],
   "source": [
    "log_dir = \"logs/cnn_logs/train\"\n",
    "os.makedirs(log_dir, exist_ok=True)\n",
    "checkpoint = ModelCheckpoint('best_model.keras', monitor='val_accuracy', save_best_only=True, mode='max', verbose=1)\n",
    "tensorboard_callback = TensorBoard(log_dir=log_dir, histogram_freq = 1)"
   ]
  }
 ],
 "metadata": {
  "kernelspec": {
   "display_name": "Python 3 (ipykernel)",
   "language": "python",
   "name": "python3"
  },
  "language_info": {
   "codemirror_mode": {
    "name": "ipython",
    "version": 3
   },
   "file_extension": ".py",
   "mimetype": "text/x-python",
   "name": "python",
   "nbconvert_exporter": "python",
   "pygments_lexer": "ipython3",
   "version": "3.12.3"
  }
 },
 "nbformat": 4,
 "nbformat_minor": 5
}
